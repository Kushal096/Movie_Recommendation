{
 "cells": [
  {
   "cell_type": "code",
   "execution_count": null,
   "id": "d5fcba7f",
   "metadata": {},
   "outputs": [],
   "source": [
    "import numpy as np\n",
    "import pandas as pd\n",
    "import ast"
   ]
  },
  {
   "cell_type": "code",
   "execution_count": null,
   "id": "ebec5626",
   "metadata": {},
   "outputs": [],
   "source": [
    "movies_data = pd.read_csv('CSV/tmdb_5000_movies.csv')\n",
    "credits_data = pd.read_csv('CSV/tmdb_5000_credits.csv')"
   ]
  },
  {
   "cell_type": "code",
   "execution_count": null,
   "id": "b793ebe4",
   "metadata": {},
   "outputs": [],
   "source": [
    "movies_data = movies_data.merge(credits_data, on='title')"
   ]
  },
  {
   "cell_type": "code",
   "execution_count": null,
   "id": "e0ee333a",
   "metadata": {},
   "outputs": [],
   "source": [
    "movies_data.columns"
   ]
  },
  {
   "cell_type": "code",
   "execution_count": null,
   "id": "5fbd4491",
   "metadata": {},
   "outputs": [],
   "source": [
    "movies_data = movies_data[['movie_id','title','genres','keywords','overview','cast','crew']]"
   ]
  },
  {
   "cell_type": "code",
   "execution_count": null,
   "id": "50a0bcff",
   "metadata": {},
   "outputs": [],
   "source": [
    "movies_data"
   ]
  },
  {
   "cell_type": "code",
   "execution_count": null,
   "id": "ddc97d80",
   "metadata": {},
   "outputs": [],
   "source": [
    "movies_data.isnull().sum()"
   ]
  },
  {
   "cell_type": "code",
   "execution_count": null,
   "id": "bd6223f9",
   "metadata": {},
   "outputs": [],
   "source": [
    "movies_data.dropna(inplace= True)"
   ]
  },
  {
   "cell_type": "code",
   "execution_count": null,
   "id": "d158ecaf",
   "metadata": {},
   "outputs": [],
   "source": [
    "movies_data.duplicated().sum()"
   ]
  },
  {
   "cell_type": "code",
   "execution_count": null,
   "id": "2433e61d",
   "metadata": {},
   "outputs": [],
   "source": [
    "def convert_list(obj):\n",
    "    arr = []\n",
    "    for i in ast.literal_eval(obj):\n",
    "        arr.append(i['name'])\n",
    "    return arr\n"
   ]
  },
  {
   "cell_type": "code",
   "execution_count": null,
   "id": "bb9010ed",
   "metadata": {},
   "outputs": [],
   "source": [
    "movies_data['genres'] = movies_data['genres'].apply(convert_list)"
   ]
  },
  {
   "cell_type": "code",
   "execution_count": null,
   "id": "169b811c",
   "metadata": {},
   "outputs": [],
   "source": [
    "movies_data['keywords'] = movies_data['keywords'].apply(convert_list)"
   ]
  },
  {
   "cell_type": "code",
   "execution_count": null,
   "id": "0635726e",
   "metadata": {},
   "outputs": [],
   "source": [
    "movies_data"
   ]
  },
  {
   "cell_type": "code",
   "execution_count": null,
   "id": "3cf5b5b0",
   "metadata": {},
   "outputs": [],
   "source": [
    "def convert(obj):\n",
    "    return [item['name'] for item in ast.literal_eval(obj)[:3]]\n",
    "        "
   ]
  },
  {
   "cell_type": "code",
   "execution_count": null,
   "id": "5cdd5bb8",
   "metadata": {},
   "outputs": [],
   "source": [
    "movies_data['cast'] = movies_data['cast'].apply(convert)"
   ]
  },
  {
   "cell_type": "code",
   "execution_count": null,
   "id": "d9a4dac3",
   "metadata": {},
   "outputs": [],
   "source": [
    "def director_search(obj):\n",
    "    for item in ast.literal_eval(obj):\n",
    "        if item['job'] == 'Director':\n",
    "            return [item['name']]\n",
    "    return [] "
   ]
  },
  {
   "cell_type": "code",
   "execution_count": null,
   "id": "f1187895",
   "metadata": {},
   "outputs": [],
   "source": [
    "movies_data['crew'] = movies_data['crew'].apply(director_search)"
   ]
  },
  {
   "cell_type": "code",
   "execution_count": null,
   "id": "810af17d",
   "metadata": {},
   "outputs": [],
   "source": [
    "movies_data['overview'] = movies_data['overview'].apply(lambda x:x.split())"
   ]
  },
  {
   "cell_type": "code",
   "execution_count": null,
   "id": "27a7a49c",
   "metadata": {},
   "outputs": [],
   "source": [
    "movies_data['genres'] = movies_data['genres'].apply(lambda x:[i.replace(\" \",\"\") for i in x])\n",
    "movies_data['keywords'] = movies_data['keywords'].apply(lambda x:[i.replace(\" \",\"\") for i in x])\n",
    "movies_data['cast'] = movies_data['cast'].apply(lambda x:[i.replace(\" \",\"\") for i in x])\n",
    "movies_data['crew'] = movies_data['crew'].apply(lambda x:[i.replace(\" \",\"\") for i in x])\n"
   ]
  },
  {
   "cell_type": "code",
   "execution_count": null,
   "id": "ca6cbfa9",
   "metadata": {},
   "outputs": [],
   "source": [
    "movies_data['tags'] = movies_data['overview'] + movies_data['keywords'] + movies_data['cast'] + movies_data['crew'] + movies_data['genres']"
   ]
  },
  {
   "cell_type": "code",
   "execution_count": null,
   "id": "bd3f6036",
   "metadata": {},
   "outputs": [],
   "source": [
    "new_data = movies_data[['movie_id','title','tags']]"
   ]
  },
  {
   "cell_type": "code",
   "execution_count": 25,
   "id": "44b493a3",
   "metadata": {},
   "outputs": [
    {
     "name": "stderr",
     "output_type": "stream",
     "text": [
      "C:\\Users\\shres\\AppData\\Local\\Temp\\ipykernel_21148\\3799520443.py:1: SettingWithCopyWarning: \n",
      "A value is trying to be set on a copy of a slice from a DataFrame.\n",
      "Try using .loc[row_indexer,col_indexer] = value instead\n",
      "\n",
      "See the caveats in the documentation: https://pandas.pydata.org/pandas-docs/stable/user_guide/indexing.html#returning-a-view-versus-a-copy\n",
      "  new_data['tags'] = new_data['tags'].apply(lambda x: ' '.join(x).lower())\n"
     ]
    }
   ],
   "source": [
    "new_data['tags'] = new_data['tags'].apply(lambda x: ' '.join(x).lower())"
   ]
  },
  {
   "cell_type": "code",
   "execution_count": 26,
   "id": "a44768f8",
   "metadata": {},
   "outputs": [
    {
     "data": {
      "application/vnd.microsoft.datawrangler.viewer.v0+json": {
       "columns": [
        {
         "name": "index",
         "rawType": "int64",
         "type": "integer"
        },
        {
         "name": "movie_id",
         "rawType": "int64",
         "type": "integer"
        },
        {
         "name": "title",
         "rawType": "object",
         "type": "string"
        },
        {
         "name": "tags",
         "rawType": "object",
         "type": "string"
        }
       ],
       "ref": "f33f2993-f270-4929-82cf-ee0d86d082de",
       "rows": [
        [
         "0",
         "19995",
         "Avatar",
         "in the 22nd century, a paraplegic marine is dispatched to the moon pandora on a unique mission, but becomes torn between following orders and protecting an alien civilization. cultureclash future spacewar spacecolony society spacetravel futuristic romance space alien tribe alienplanet cgi marine soldier battle loveaffair antiwar powerrelations mindandsoul 3d samworthington zoesaldana sigourneyweaver jamescameron action adventure fantasy sciencefiction"
        ],
        [
         "1",
         "285",
         "Pirates of the Caribbean: At World's End",
         "captain barbossa, long believed to be dead, has come back to life and is headed to the edge of the earth with will turner and elizabeth swann. but nothing is quite as it seems. ocean drugabuse exoticisland eastindiatradingcompany loveofone'slife traitor shipwreck strongwoman ship alliance calypso afterlife fighter pirate swashbuckler aftercreditsstinger johnnydepp orlandobloom keiraknightley goreverbinski adventure fantasy action"
        ],
        [
         "2",
         "206647",
         "Spectre",
         "a cryptic message from bond’s past sends him on a trail to uncover a sinister organization. while m battles political forces to keep the secret service alive, bond peels back the layers of deceit to reveal the terrible truth behind spectre. spy basedonnovel secretagent sequel mi6 britishsecretservice unitedkingdom danielcraig christophwaltz léaseydoux sammendes action adventure crime"
        ],
        [
         "3",
         "49026",
         "The Dark Knight Rises",
         "following the death of district attorney harvey dent, batman assumes responsibility for dent's crimes to protect the late attorney's reputation and is subsequently hunted by the gotham city police department. eight years later, batman encounters the mysterious selina kyle and the villainous bane, a new terrorist leader who overwhelms gotham's finest. the dark knight resurfaces to protect a city that has branded him an enemy. dccomics crimefighter terrorist secretidentity burglar hostagedrama timebomb gothamcity vigilante cover-up superhero villainess tragichero terrorism destruction catwoman catburglar imax flood criminalunderworld batman christianbale michaelcaine garyoldman christophernolan action crime drama thriller"
        ],
        [
         "4",
         "49529",
         "John Carter",
         "john carter is a war-weary, former military captain who's inexplicably transported to the mysterious and exotic planet of barsoom (mars) and reluctantly becomes embroiled in an epic conflict. it's a world on the brink of collapse, and carter rediscovers his humanity when he realizes the survival of barsoom and its people rests in his hands. basedonnovel mars medallion spacetravel princess alien steampunk martian escape edgarriceburroughs alienrace superhumanstrength marscivilization swordandplanet 19thcentury 3d taylorkitsch lynncollins samanthamorton andrewstanton action adventure sciencefiction"
        ],
        [
         "5",
         "559",
         "Spider-Man 3",
         "the seemingly invincible spider-man goes up against an all-new crop of villain – including the shape-shifting sandman. while spider-man’s superpowers are altered by an alien organism, his alter ego, peter parker, deals with nemesis eddie brock and also gets caught up in a love triangle. dualidentity amnesia sandstorm loveofone'slife forgiveness spider wretch deathofafriend egomania sand narcism hostility marvelcomic sequel superhero revenge tobeymaguire kirstendunst jamesfranco samraimi fantasy action adventure"
        ],
        [
         "6",
         "38757",
         "Tangled",
         "when the kingdom's most wanted-and most charming-bandit flynn rider hides out in a mysterious tower, he's taken hostage by rapunzel, a beautiful and feisty tower-bound teen with 70 feet of magical, golden hair. flynn's curious captor, who's looking for her ticket out of the tower where she's been locked away for years, strikes a deal with the handsome thief and the unlikely duo sets off on an action-packed escapade, complete with a super-cop horse, an over-protective chameleon and a gruff gang of pub thugs. hostage magic horse fairytale musical princess animation tower blondewoman selfishness healingpower basedonfairytale duringcreditsstinger healinggift animalsidekick zacharylevi mandymoore donnamurphy byronhoward animation family"
        ],
        [
         "7",
         "99861",
         "Avengers: Age of Ultron",
         "when tony stark tries to jumpstart a dormant peacekeeping program, things go awry and earth’s mightiest heroes are put to the ultimate test as the fate of the planet hangs in the balance. as the villainous ultron emerges, it is up to the avengers to stop him from enacting his terrible plans, and soon uneasy alliances and unexpected action pave the way for an epic and unique global adventure. marvelcomic sequel superhero basedoncomicbook vision superheroteam duringcreditsstinger marvelcinematicuniverse 3d robertdowneyjr. chrishemsworth markruffalo josswhedon action adventure sciencefiction"
        ],
        [
         "8",
         "767",
         "Harry Potter and the Half-Blood Prince",
         "as harry begins his sixth year at hogwarts, he discovers an old book marked as 'property of the half-blood prince', and begins to learn more about lord voldemort's dark past. witch magic broom schoolofwitchcraft wizardry apparition teenagecrush werewolf danielradcliffe rupertgrint emmawatson davidyates adventure fantasy family"
        ],
        [
         "9",
         "209112",
         "Batman v Superman: Dawn of Justice",
         "fearing the actions of a god-like super hero left unchecked, gotham city’s own formidable, forceful vigilante takes on metropolis’s most revered, modern-day savior, while the world wrestles with what sort of hero it really needs. and with batman and superman at war with one another, a new threat quickly arises, putting mankind in greater danger than it’s ever known before. dccomics vigilante superhero basedoncomicbook revenge superpowers clarkkent brucewayne dcextendeduniverse benaffleck henrycavill galgadot zacksnyder action adventure fantasy"
        ],
        [
         "10",
         "1452",
         "Superman Returns",
         "superman returns to discover his 5-year absence has allowed lex luthor to walk free, and that those he was closest too felt abandoned and have moved on. luthor plots his ultimate revenge that could see millions killed and change the face of the planet forever, as well as ridding himself of the man of steel. savingtheworld dccomics invulnerability sequel superhero basedoncomicbook kryptonite superpowers superhumanstrength lexluthor brandonrouth kevinspacey katebosworth bryansinger adventure fantasy action sciencefiction"
        ],
        [
         "11",
         "10764",
         "Quantum of Solace",
         "quantum of solace continues the adventures of james bond after casino royale. betrayed by vesper, the woman he loved, 007 fights the urge to make his latest mission personal. pursuing his determination to uncover the truth, bond and m interrogate mr. white, who reveals that the organization that blackmailed vesper is far more complex and dangerous than anyone had imagined. killing undercover secretagent britishsecretservice danielcraig olgakurylenko mathieuamalric marcforster adventure action thriller crime"
        ],
        [
         "12",
         "58",
         "Pirates of the Caribbean: Dead Man's Chest",
         "captain jack sparrow works his way out of a blood debt with the ghostly davey jones, he also attempts to avoid eternal damnation. witch fortuneteller bondage exoticisland monster captain cardgame eastindiatradingcompany compass ship daughter pirate swashbuckler aftercreditsstinger johnnydepp orlandobloom keiraknightley goreverbinski adventure fantasy action"
        ],
        [
         "13",
         "57201",
         "The Lone Ranger",
         "the texas rangers chase down a gang of outlaws led by butch cavendish, but the gang ambushes the rangers, seemingly killing them all. one survivor is found, however, by an american indian named tonto, who nurses him back to health. the ranger, donning a mask and riding a white stallion named silver, teams up with tonto to bring the unscrupulous gang and others of that ilk to justice. texas horse survivor texasranger partner outlaw escape lawyer train loneranger comanche theloneranger tonto johnnydepp armiehammer williamfichtner goreverbinski action adventure western"
        ],
        [
         "14",
         "49521",
         "Man of Steel",
         "a young boy learns that he has extraordinary powers and is not of this earth. as a young man, he journeys to discover where he came from and what he was sent here to do. but the hero in him must emerge if he is to save the world from annihilation and become the symbol of hope for all mankind. savingtheworld dccomics superhero basedoncomicbook superhuman alieninvasion reboot superpowers dcextendeduniverse henrycavill amyadams michaelshannon zacksnyder action adventure fantasy sciencefiction"
        ],
        [
         "15",
         "2454",
         "The Chronicles of Narnia: Prince Caspian",
         "one year after their incredible adventures in the lion, the witch and the wardrobe, peter, edmund, lucy and susan pevensie return to narnia to aid a young prince whose life has been threatened by the evil king miraz. now, with the help of a colorful cast of new characters, including trufflehunter the badger and nikabrik the dwarf, the pevensie clan embarks on an incredible quest to ensure that narnia is returned to its rightful heir. basedonnovel fictionalplace brothersisterrelationship lion humanbeing wretch leapintime matteroflifeanddeath faith uncle narnia fantasyworld benbarnes williammoseley annapopplewell andrewadamson adventure family fantasy"
        ],
        [
         "16",
         "24428",
         "The Avengers",
         "when an unexpected enemy emerges and threatens global safety and security, nick fury, director of the international peacekeeping agency known as s.h.i.e.l.d., finds himself in need of a team to pull the world back from the brink of disaster. spanning the globe, a daring recruitment effort begins! newyork shield marvelcomic superhero basedoncomicbook alieninvasion superheroteam aftercreditsstinger duringcreditsstinger marvelcinematicuniverse robertdowneyjr. chrisevans markruffalo josswhedon sciencefiction action adventure"
        ],
        [
         "17",
         "1865",
         "Pirates of the Caribbean: On Stranger Tides",
         "captain jack sparrow crosses paths with a woman from his past, and he's not sure if it's love -- or if she's a ruthless con artist who's using him to find the fabled fountain of youth. when she forces him aboard the queen anne's revenge, the ship of the formidable pirate blackbeard, jack finds himself on an unexpected adventure in which he doesn't know who to fear more: blackbeard or the woman from his past. sea captain mutiny sword primeminister sailing silver ship duke mermaid pirate soldier battle swashbuckler aftercreditsstinger 3d johnnydepp penélopecruz ianmcshane robmarshall adventure action fantasy"
        ],
        [
         "18",
         "41154",
         "Men in Black 3",
         "agents j (will smith) and k (tommy lee jones) are back...in time. j has seen some inexplicable things in his 15 years with the men in black, but nothing, not even aliens, perplexes him as much as his wry, reticent partner. but when k's life and the fate of the planet are put at stake, agent j will have to travel back in time to put things right. j discovers that there are secrets to the universe that k never told him - secrets that will reveal themselves as he teams up with the young agent k (josh brolin) to save his partner, the agency, and the future of humankind. timetravel timemachine alien fictionalgovernmentagency seeingthefuture changinghistory willsmith tommyleejones joshbrolin barrysonnenfeld action comedy sciencefiction"
        ],
        [
         "19",
         "122917",
         "The Hobbit: The Battle of the Five Armies",
         "immediately after the events of the desolation of smaug, bilbo and the dwarves try to defend erebor's mountain of treasure from others who claim it: the men of the ruined laketown and the elves of mirkwood. meanwhile an army of orcs led by azog the defiler is marching on erebor, fueled by the rise of the dark lord sauron. dwarves, elves and men must unite, and the hope for middle-earth falls into bilbo's hands. corruption elves dwarves orcs middle-earth(tolkien) hobbit dragon battle unlikelyfriendship epicbattle swordandsorcery martinfreeman ianmckellen richardarmitage peterjackson action adventure fantasy"
        ],
        [
         "20",
         "1930",
         "The Amazing Spider-Man",
         "peter parker is an outcast high schooler abandoned by his parents as a boy, leaving him to be raised by his uncle ben and aunt may. like most teenagers, peter is trying to figure out who he is and how he got to be the person he is today. as peter discovers a mysterious briefcase that belonged to his father, he begins a quest to understand his parents' disappearance – leading him directly to oscorp and the lab of dr. curt connors, his father's former partner. as spider-man is set on a collision course with connors' alter ego, the lizard, peter will make life-altering choices to use his powers and shape his destiny to become a hero. lossoffather vigilante serum marvelcomic scientificexperiment spiderbite maskedvigilante reboot superpowers geneticengineering socialoutcast duringcreditsstinger andrewgarfield emmastone rhysifans marcwebb action adventure fantasy"
        ],
        [
         "21",
         "20662",
         "Robin Hood",
         "when soldier robin happens upon the dying robert of loxley, he promises to return the man's sword to his family in nottingham. there, he assumes robert's identity; romances his widow, marion; and draws the ire of the town's sheriff and king john's henchman, godfrey. robinhood archer knight sherwoodforest bowandarrow middleages medieval kingofengland russellcrowe cateblanchett maxvonsydow ridleyscott action adventure"
        ],
        [
         "22",
         "57158",
         "The Hobbit: The Desolation of Smaug",
         "the dwarves, bilbo and gandalf have successfully escaped the misty mountains, and bilbo has gained the one ring. they all continue their journey to get their gold back from the dragon, smaug. elves dwarves orcs hobbit dragon wizard swordandsorcery martinfreeman ianmckellen richardarmitage peterjackson adventure fantasy"
        ],
        [
         "23",
         "2268",
         "The Golden Compass",
         "after overhearing a shocking secret, precocious orphan lyra belacqua trades her carefree existence roaming the halls of jordan college for an otherworldly adventure in the far north, unaware that it's part of her destiny. england compass experiment lordship uncle polarbear orphan animal basedonyoungadultnovel dakotabluerichards nicolekidman danielcraig chrisweitz adventure fantasy"
        ],
        [
         "24",
         "254",
         "King Kong",
         "in 1933 new york, an overly ambitious movie producer coerces his cast and hired ship crew to travel to mysterious skull island, where they encounter kong, a giant ape who is immediately smitten with the leading lady. filmbusiness screenplay showbusiness filmmaking filmproducer exoticisland monster indigenous ship dinosaur naomiwatts jackblack adrienbrody peterjackson adventure drama action"
        ],
        [
         "25",
         "597",
         "Titanic",
         "84 years later, a 101-year-old woman named rose dewitt bukater tells the story to her granddaughter lizzy calvert, brock lovett, lewis bodine, bobby buell and anatoly mikailavich on the keldysh about her life set in april 10th 1912, on a ship called titanic when young rose boards the departing ship with the upper-class passengers and her mother, ruth dewitt bukater, and her fiancé, caledon hockley. meanwhile, a drifter and artist named jack dawson and his best friend fabrizio de rossi win third-class tickets to the ship in a game. and she explains the whole story from departure until the death of titanic on its first and last voyage april 15th, 1912 at 2:20 in the morning. shipwreck iceberg ship panic titanic oceanliner epic richwoman-poorman love disaster tragiclove classdifferences imax starcrossedlovers steerage salvage richsnob 3d 1910s katewinslet leonardodicaprio francesfisher jamescameron drama romance thriller"
        ],
        [
         "26",
         "271110",
         "Captain America: Civil War",
         "following the events of age of ultron, the collective governments of the world pass an act designed to regulate all superhuman activity. this polarizes opinion amongst the avengers, causing two factions to side with iron man or captain america, which causes an epic battle between former allies. civilwar war marvelcomic sequel superhero basedoncomicbook imax aftercreditsstinger duringcreditsstinger marvelcinematicuniverse 3d chrisevans robertdowneyjr. scarlettjohansson anthonyrusso adventure action sciencefiction"
        ],
        [
         "27",
         "44833",
         "Battleship",
         "when mankind beams a radio signal into space, a reply comes from ‘planet g’, in the form of several alien crafts that splash down in the waters off hawaii. lieutenant alex hopper is a weapons officer assigned to the uss john paul jones, part of an international naval coalition which becomes the world's last hope for survival as they engage the hostile alien force of unimaginable strength. while taking on the invaders, hopper must also try to live up to the potential his brother, and his fiancée's father, admiral shane, expect of him. fight u.s.navy mindreading hongkong soccer scientist fictionalwar naval armada battleship navalcombat jdsmyoko lostcommunication taser buoy communicationsexpert jointchiefsofstaff crashlanding jetfighterpilot navylieutenant permissiontomarry ussjohnpauljones basedonboardgame aftercreditsstinger mightymo ussmissouri taylorkitsch alexanderskarsgård rihanna peterberg thriller action adventure sciencefiction"
        ],
        [
         "28",
         "135397",
         "Jurassic World",
         "twenty-two years after the events of jurassic park, isla nublar now features a fully functioning dinosaur theme park, jurassic world, as originally envisioned by john hammond. monster dna tyrannosaurusrex velociraptor island sequel suspense disaster escape dinosaur amusementpark animalattack themepark jurassicpark 3d animalhorror chrispratt brycedallashoward irrfankhan colintrevorrow action adventure sciencefiction thriller"
        ],
        [
         "29",
         "37724",
         "Skyfall",
         "when bond's latest assignment goes gravely wrong and agents around the world are exposed, mi6 is attacked forcing m to relocate the agency. these events cause her authority and position to be challenged by gareth mallory, the new chairman of the intelligence and security committee. with mi6 now compromised from both inside and out, m is left with one ally she can trust: bond. 007 takes to the shadows - aided only by field agent, eve - following a trail to the mysterious silva, whose lethal and hidden motives have yet to reveal themselves. spy secretagent sociopath killer artgallery britishsecretservice istanbulturkey imax uzi boobytrap impersonatingapoliceofficer macao danielcraig judidench javierbardem sammendes action adventure thriller"
        ],
        [
         "30",
         "558",
         "Spider-Man 2",
         "peter parker is going through a major identity crisis. burned out from being spider-man, he decides to shelve his superhero alter ego, which leaves the city suffering in the wake of carnage left by the evil doc ock. in the meantime, parker still can't act on his feelings for mary jane watson, a girl he's loved since childhood. dualidentity loveofone'slife pizzaboy marvelcomic sequel superhero doctor scientist tentacle death supervillain tobeymaguire kirstendunst jamesfranco samraimi action adventure fantasy"
        ],
        [
         "31",
         "68721",
         "Iron Man 3",
         "when tony stark's world is torn apart by a formidable terrorist called the mandarin, he starts an odyssey of rebuilding and retribution. terrorist waronterror tennessee malibu marvelcomic superhero basedoncomicbook tonystark ironman aftercreditsstinger marvelcinematicuniverse mandarin 3d warmachine ironpatriot extremis robertdowneyjr. gwynethpaltrow doncheadle shaneblack action adventure sciencefiction"
        ],
        [
         "32",
         "12155",
         "Alice in Wonderland",
         "alice, an unpretentious and individual 19-year-old, is betrothed to a dunce of an english nobleman. at her engagement party, she escapes the crowd to consider whether to go through with the marriage and falls down a hole in the garden after spotting an unusual rabbit. arriving in a strange and surreal place called 'underland,' she finds herself in a world that resembles the nightmares she had as a child, filled with talking animals, villainous queens and knights, and frumious bandersnatches. alice realizes that she is there for a reason – to conquer the horrific jabberwocky and restore the rightful queen to her throne. basedonnovel fictionalplace queen fantasy aliceinwonderland fantasyworld 3d miawasikowska johnnydepp annehathaway timburton family fantasy adventure"
        ],
        [
         "33",
         "36668",
         "X-Men: The Last Stand",
         "when a cure is found to treat mutations, lines are drawn amongst the x-men and the brotherhood, a band of powerful mutants organized under xavier's former ally, magneto. mutant marvelcomic basedoncomicbook superhuman beast cyclops aftercreditsstinger hughjackman halleberry ianmckellen brettratner adventure action sciencefiction thriller"
        ],
        [
         "34",
         "62211",
         "Monsters University",
         "a look at the relationship between mike and sulley during their days at monsters university — when they weren't necessarily the best of friends. monster dormitory games animation bestfriend university scary aftercreditsstinger billycrystal johngoodman stevebuscemi danscanlon animation family"
        ],
        [
         "35",
         "8373",
         "Transformers: Revenge of the Fallen",
         "sam witwicky leaves the autobots behind for a normal life. but when his mind is filled with cryptic symbols, the decepticons target him and he is dragged back into the transformers' war. egypt sun chaos symbol artifact transformers tank robot imax duringcreditsstinger shialabeouf meganfox joshduhamel michaelbay sciencefiction action adventure"
        ],
        [
         "36",
         "91314",
         "Transformers: Age of Extinction",
         "as humanity picks up the pieces, following the conclusion of \"transformers: dark of the moon,\" autobots and decepticons have all but vanished from the face of the planet. however, a group of powerful, ingenious businessman and scientists attempt to learn from past transformer incursions and push the boundaries of technology beyond what they can control - all while an ancient, powerful transformer menace sets earth in his cross-hairs. sequel alien transformers giantrobot robot imax transformingrobot markwahlberg stanleytucci kelseygrammer michaelbay sciencefiction action adventure"
        ],
        [
         "37",
         "68728",
         "Oz: The Great and Powerful",
         "oscar diggs, a small-time circus illusionist and con-artist, is whisked from kansas to the land of oz where the inhabitants assume he's the great wizard of prophecy, there to save oz from the clutches of evil. circus witch magic hope illusion lost magictrick wizard 3d jamesfranco milakunis rachelweisz samraimi fantasy adventure family"
        ],
        [
         "38",
         "102382",
         "The Amazing Spider-Man 2",
         "for peter parker, life is busy. between taking out the bad guys as spider-man and spending time with the person he loves, gwen stacy, high school graduation cannot come quickly enough. peter has not forgotten about the promise he made to gwen’s father to protect her by staying away, but that is a promise he cannot keep. things will change for peter when a new villain, electro, emerges, an old friend, harry osborn, returns, and peter uncovers new clues about his past. obsession marvelcomic sequel basedoncomicbook electrocution medicalexperiment electricity superpowers andrewgarfield emmastone jamiefoxx marcwebb action adventure fantasy"
        ],
        [
         "39",
         "20526",
         "TRON: Legacy",
         "sam flynn, the tech-savvy and daring son of kevin flynn, investigates his father's disappearance and is pulled into the grid. with the help of a mysterious program named quorra, sam quests to stop evil dictator clu from crossing into the real world. artificialintelligence secretidentity computerprogram dystopia computer deception duel motorcycle neonlight autocracy garretthedlund jeffbridges oliviawilde josephkosinski adventure action sciencefiction"
        ],
        [
         "40",
         "49013",
         "Cars 2",
         "star race car lightning mcqueen and his pal mater head overseas to compete in the world grand prix race. but the road to the championship becomes rocky as mater gets caught up in an intriguing adventure of his own: international espionage. carrace sequel comedy anthropomorphism bestfriend duringcreditsstinger owenwilson larrythecableguy michaelcaine johnlasseter animation family adventure comedy"
        ],
        [
         "41",
         "44912",
         "Green Lantern",
         "for centuries, a small but powerful force of warriors called the green lantern corps has sworn to keep intergalactic order. each green lantern wears a ring that grants him superpowers. but when a new enemy called parallax threatens to destroy the balance of power in the universe, their fate and the fate of earth lie in the hands of the first human ever recruited. dccomics transformation superhero alien alieninfection magicalobject protector superpowers origin 3d ryanreynolds blakelively petersarsgaard martincampbell adventure action thriller sciencefiction"
        ],
        [
         "42",
         "10193",
         "Toy Story 3",
         "woody, buzz, and the rest of andy's toys haven't been played with in years. with andy about to go to college, the gang find themselves accidentally left at a nefarious day care center. the toys must band together to escape and return home to andy. hostage college toy barbie animation escape daycare teddybear duringcreditsstinger toycomestolife personification inanimateobjectscomingtolife toystory tomhanks timallen nedbeatty leeunkrich animation family comedy"
        ],
        [
         "43",
         "534",
         "Terminator Salvation",
         "all grown up in post-apocalyptic 2018, john connor must lead the resistance of humans against the increasingly dominating militaristic robots. but when marcus wright appears, his existence confuses the mission as connor tries to determine whether wright has come from the future or the past -- and whether he's friend or foe. savingtheworld artificialintelligence prophecy sanfrancisco cyborg killerrobot gasstation post-apocalyptic dystopia army firearm wartime losangeles christianbale samworthington antonyelchin mcg action sciencefiction thriller"
        ],
        [
         "44",
         "168259",
         "Furious 7",
         "deckard shaw seeks revenge against dominic toretto and his family for his comatose brother. carrace speed revenge suspense car race musclecar vindiesel paulwalker dwaynejohnson jameswan action"
        ],
        [
         "45",
         "72190",
         "World War Z",
         "life for former united nations investigator gerry lane and his family seems content. suddenly, the world is plagued by a mysterious infection turning whole human populations into rampaging mindless zombies. after barely escaping the chaos, lane is persuaded to go on a mission to investigate this disease. what follows is a perilous trek around the world where lane must brave horrific dangers and long odds to find answers before human civilization falls. dystopia apocalypse zombie nuclearweapons multipleperspectives zombieapocalypse bradpitt mireilleenos abigailhargrove marcforster action drama horror sciencefiction thriller"
        ],
        [
         "46",
         "127585",
         "X-Men: Days of Future Past",
         "the ultimate x-men ensemble fights a war for the survival of the species across two time periods as they join forces with their younger selves in an epic battle that must change the past – to save our future. 1970s mutant timetravel marvelcomic basedoncomicbook superhuman storm beast aftercreditsstinger changingthepastorfuture hughjackman jamesmcavoy michaelfassbender bryansinger action adventure fantasy sciencefiction"
        ],
        [
         "47",
         "54138",
         "Star Trek Into Darkness",
         "when the crew of the enterprise is called back home, they find an unstoppable force of terror from within their own organization has detonated the fleet and everything it stands for, leaving our world in a state of crisis. with a personal score to settle, captain kirk leads a manhunt to a war-zone world to capture a one man weapon of mass destruction. as our heroes are propelled into an epic chess game of life and death, love will be challenged, friendships will be torn apart, and sacrifices must be made for the only family kirk has left: his crew. spacecraft friendship sequel futuristic space alien imax spaceopera terroristbombing 3d chrispine zacharyquinto zoesaldana j.j.abrams action adventure sciencefiction"
        ],
        [
         "48",
         "81005",
         "Jack the Giant Slayer",
         "the story of an ancient war that is reignited when a young farmhand unwittingly opens a gateway between our world and a fearsome race of giants. unleashed on the earth for the first time in centuries, the giants strive to reclaim the land they once lost, forcing the young man, jack into the battle of his life to stop them. fighting for a kingdom, its people, and the love of a brave princess, he comes face to face with the unstoppable warriors he thought only existed in legend–and gets the chance to become a legend himself. basedonfairytale giant nicholashoult eleanortomlinson ewanmcgregor bryansinger action family fantasy"
        ],
        [
         "49",
         "64682",
         "The Great Gatsby",
         "an adaptation of f. scott fitzgerald's long island-set novel, where midwesterner nick carraway is lured into the lavish world of his neighbor, jay gatsby. soon enough, however, carraway will see through the cracks of gatsby's nouveau riche existence, where obsession, madness, and tragedy await. basedonnovel infidelity obsession hope 3d leonardodicaprio tobeymaguire careymulligan bazluhrmann drama romance"
        ]
       ],
       "shape": {
        "columns": 3,
        "rows": 4806
       }
      },
      "text/html": [
       "<div>\n",
       "<style scoped>\n",
       "    .dataframe tbody tr th:only-of-type {\n",
       "        vertical-align: middle;\n",
       "    }\n",
       "\n",
       "    .dataframe tbody tr th {\n",
       "        vertical-align: top;\n",
       "    }\n",
       "\n",
       "    .dataframe thead th {\n",
       "        text-align: right;\n",
       "    }\n",
       "</style>\n",
       "<table border=\"1\" class=\"dataframe\">\n",
       "  <thead>\n",
       "    <tr style=\"text-align: right;\">\n",
       "      <th></th>\n",
       "      <th>movie_id</th>\n",
       "      <th>title</th>\n",
       "      <th>tags</th>\n",
       "    </tr>\n",
       "  </thead>\n",
       "  <tbody>\n",
       "    <tr>\n",
       "      <th>0</th>\n",
       "      <td>19995</td>\n",
       "      <td>Avatar</td>\n",
       "      <td>in the 22nd century, a paraplegic marine is di...</td>\n",
       "    </tr>\n",
       "    <tr>\n",
       "      <th>1</th>\n",
       "      <td>285</td>\n",
       "      <td>Pirates of the Caribbean: At World's End</td>\n",
       "      <td>captain barbossa, long believed to be dead, ha...</td>\n",
       "    </tr>\n",
       "    <tr>\n",
       "      <th>2</th>\n",
       "      <td>206647</td>\n",
       "      <td>Spectre</td>\n",
       "      <td>a cryptic message from bond’s past sends him o...</td>\n",
       "    </tr>\n",
       "    <tr>\n",
       "      <th>3</th>\n",
       "      <td>49026</td>\n",
       "      <td>The Dark Knight Rises</td>\n",
       "      <td>following the death of district attorney harve...</td>\n",
       "    </tr>\n",
       "    <tr>\n",
       "      <th>4</th>\n",
       "      <td>49529</td>\n",
       "      <td>John Carter</td>\n",
       "      <td>john carter is a war-weary, former military ca...</td>\n",
       "    </tr>\n",
       "    <tr>\n",
       "      <th>...</th>\n",
       "      <td>...</td>\n",
       "      <td>...</td>\n",
       "      <td>...</td>\n",
       "    </tr>\n",
       "    <tr>\n",
       "      <th>4804</th>\n",
       "      <td>9367</td>\n",
       "      <td>El Mariachi</td>\n",
       "      <td>el mariachi just wants to play his guitar and ...</td>\n",
       "    </tr>\n",
       "    <tr>\n",
       "      <th>4805</th>\n",
       "      <td>72766</td>\n",
       "      <td>Newlyweds</td>\n",
       "      <td>a newlywed couple's honeymoon is upended by th...</td>\n",
       "    </tr>\n",
       "    <tr>\n",
       "      <th>4806</th>\n",
       "      <td>231617</td>\n",
       "      <td>Signed, Sealed, Delivered</td>\n",
       "      <td>\"signed, sealed, delivered\" introduces a dedic...</td>\n",
       "    </tr>\n",
       "    <tr>\n",
       "      <th>4807</th>\n",
       "      <td>126186</td>\n",
       "      <td>Shanghai Calling</td>\n",
       "      <td>when ambitious new york attorney sam is sent t...</td>\n",
       "    </tr>\n",
       "    <tr>\n",
       "      <th>4808</th>\n",
       "      <td>25975</td>\n",
       "      <td>My Date with Drew</td>\n",
       "      <td>ever since the second grade when he first saw ...</td>\n",
       "    </tr>\n",
       "  </tbody>\n",
       "</table>\n",
       "<p>4806 rows × 3 columns</p>\n",
       "</div>"
      ],
      "text/plain": [
       "      movie_id                                     title  \\\n",
       "0        19995                                    Avatar   \n",
       "1          285  Pirates of the Caribbean: At World's End   \n",
       "2       206647                                   Spectre   \n",
       "3        49026                     The Dark Knight Rises   \n",
       "4        49529                               John Carter   \n",
       "...        ...                                       ...   \n",
       "4804      9367                               El Mariachi   \n",
       "4805     72766                                 Newlyweds   \n",
       "4806    231617                 Signed, Sealed, Delivered   \n",
       "4807    126186                          Shanghai Calling   \n",
       "4808     25975                         My Date with Drew   \n",
       "\n",
       "                                                   tags  \n",
       "0     in the 22nd century, a paraplegic marine is di...  \n",
       "1     captain barbossa, long believed to be dead, ha...  \n",
       "2     a cryptic message from bond’s past sends him o...  \n",
       "3     following the death of district attorney harve...  \n",
       "4     john carter is a war-weary, former military ca...  \n",
       "...                                                 ...  \n",
       "4804  el mariachi just wants to play his guitar and ...  \n",
       "4805  a newlywed couple's honeymoon is upended by th...  \n",
       "4806  \"signed, sealed, delivered\" introduces a dedic...  \n",
       "4807  when ambitious new york attorney sam is sent t...  \n",
       "4808  ever since the second grade when he first saw ...  \n",
       "\n",
       "[4806 rows x 3 columns]"
      ]
     },
     "execution_count": 26,
     "metadata": {},
     "output_type": "execute_result"
    }
   ],
   "source": [
    "new_data"
   ]
  },
  {
   "cell_type": "code",
   "execution_count": null,
   "id": "a291c064",
   "metadata": {},
   "outputs": [],
   "source": []
  }
 ],
 "metadata": {
  "kernelspec": {
   "display_name": "venv (3.13.2)",
   "language": "python",
   "name": "python3"
  },
  "language_info": {
   "codemirror_mode": {
    "name": "ipython",
    "version": 3
   },
   "file_extension": ".py",
   "mimetype": "text/x-python",
   "name": "python",
   "nbconvert_exporter": "python",
   "pygments_lexer": "ipython3",
   "version": "3.13.2"
  }
 },
 "nbformat": 4,
 "nbformat_minor": 5
}
